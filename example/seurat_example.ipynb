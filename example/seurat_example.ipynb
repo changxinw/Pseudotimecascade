{
 "cells": [
  {
   "cell_type": "code",
   "execution_count": 1,
   "id": "97440c96-f4cd-4af2-917b-1a2862364994",
   "metadata": {
    "collapsed": true,
    "jupyter": {
     "outputs_hidden": true
    },
    "tags": []
   },
   "outputs": [
    {
     "name": "stderr",
     "output_type": "stream",
     "text": [
      "\n",
      "\n",
      "\n",
      "\n",
      "\n",
      "\n",
      "Attaching SeuratObject\n",
      "\n"
     ]
    }
   ],
   "source": [
    "### prepare input expression matrix for STIP\n",
    "library(STIP)\n",
    "library(Seurat)\n",
    "library(ggplot2)\n",
    "library(dplyr)\n",
    "library(gridExtra)\n",
    "library(clusterProfiler)"
   ]
  },
  {
   "cell_type": "markdown",
   "id": "dd2f1422-ce4b-41cf-bb0d-2d2b4ee54289",
   "metadata": {},
   "source": [
    "### Load data and extract expression matrix"
   ]
  },
  {
   "cell_type": "code",
   "execution_count": null,
   "id": "06a0479a-0bee-4142-be31-b6ff4b53aad8",
   "metadata": {},
   "outputs": [],
   "source": [
    "# Load seurat object\n",
    "obj = readRDS(\"path_to_seurat_object.rds\")\n",
    "# Get cell sequence according to pseudotime\n",
    "cells_order = rownames(obj@meta.data[order(obj@meta.data$pseudotime), ]) ### The column \"pseudotime\" should be add to metadata before analysis\n",
    "# Extract expression matrix\n",
    "expr_df = obj@assays$RNA@data[, cells_order]"
   ]
  },
  {
   "cell_type": "markdown",
   "id": "44b5da82-bac0-4fe8-b83e-ca7a745bdb25",
   "metadata": {},
   "source": [
    "### Perform STIP gene fitting and plotting"
   ]
  },
  {
   "cell_type": "code",
   "execution_count": null,
   "id": "6478847c-7a35-4e39-9744-b491f67685f4",
   "metadata": {},
   "outputs": [],
   "source": [
    "# Fit gene expression\n",
    "fit_data_list <- STIP::fitData(as.matrix(expr_df), mc.cores = 4)\n",
    "# Get gene expreesion pattern\n",
    "gene_group <- STIP::genePattern(as.data.frame(fit_data_list[[\"data\"]]))\n",
    "\n",
    "# save result\n",
    "stip_list <- list()\n",
    "stip_list[[\"expr_df\"]] <- expr_df\n",
    "stip_list[[\"fit_data_list\"]] <- fit_data_list\n",
    "stip_list[[\"gene_group\"]] <- gene_group\n",
    "\n",
    "# Heatmap to view interested genes\n",
    "### with q value cutoff as 0.05\n",
    "fit_data <- stip_list[[\"fit_data_list\"]][[\"data\"]][stip_list[[\"fit_data_list\"]][[\"qval\"]] <= 0.05, ]\n",
    "gene_group <- stip_list[[\"gene_group\"]][rownames(fit_data), ]\n",
    "gene_group <- gene_group[order(gene_group$pattern, gene_group$rank_point), ]\n",
    "\n",
    "markers <- c(\"Pax7\", \"Vcam1\", \"Itga7\", \"Cd34\", \"Sdc4\", \"Myod1\",\n",
    "             \"Des\", \"Mest\", \"Cdkn1c\", \"Igfbp5\", \"Myf5\", \"Myh1\", \n",
    "             \"Acta1\", \"Myl1\", \"Top2a\", \"Mki67\", \"Spry1\", \n",
    "             \"Myog\", \"Ckm\", \"Myh15\", \"Myh1\") ### Gene list you are interested, please \n",
    "markers <- intersect(rownames(gene_group), markers)\n",
    "\n",
    "### Plot and save the heatmap, should spend little while\n",
    "output = \"./\"\n",
    "pdf(paste0(output, \"STIP_Heatmap.pdf\"), width = 7, height=10)\n",
    "p <- STIP::HeatmapSTIP(x=fit_data, gl=markers, annotation=as.matrix(gene_group)[, \"pattern\"])\n",
    "ComplexHeatmap::draw(p)\n",
    "dev.off()"
   ]
  },
  {
   "cell_type": "markdown",
   "id": "e4ffb5e3-923e-46b7-b642-3e612f7d062a",
   "metadata": {},
   "source": [
    "### Gene ontology analysis"
   ]
  },
  {
   "cell_type": "code",
   "execution_count": null,
   "id": "de51c19a-0f6c-40cf-ad2e-bc9aad5305db",
   "metadata": {},
   "outputs": [],
   "source": [
    "### GO analysis of each group\n",
    "### Group Enrichment analysis of STIP, qvalue 0.05\n",
    "\n",
    "output <- \"./\"\n",
    "\n",
    "universe <- rownames(expr_df)\n",
    "fit_data <- stip_list[[\"fit_data_list\"]][[\"data\"]][stip_list[[\"fit_data_list\"]][[\"qval\"]] <= 0.05, ]\n",
    "gene_group <- stip_list[[\"gene_group\"]][rownames(fit_data), ]\n",
    "gene_group <- gene_group[order(gene_group$pattern, gene_group$rank_point), ]\n",
    "\n",
    "enrich_group_list <- list()\n",
    "enrich_qval_list <- list()\n",
    "\n",
    "# Enrichment for each group of genes\n",
    "for (gp in unique(gene_group$pattern)){\n",
    "    enrich_group <- STIP::enrichPattern(gene_group, gp, \"mouse\", universe=universe)\n",
    "    enrich_group@result[, \"EnrichRatio\"] <- (as.numeric(sapply(strsplit(enrich_group@result$GeneRatio, \"/\"), function(i) i[1])) * as.numeric(sapply(strsplit(enrich_group@result$BgRatio, \"/\"), function(i) i[2]))) / (as.numeric(sapply(strsplit(enrich_group@result$GeneRatio, \"/\"), function(i) i[2])) * as.numeric(sapply(strsplit(enrich_group@result$BgRatio, \"/\"), function(i) i[1])))\n",
    "    enrich_group_list[[gp]] <- enrich_group\n",
    "    enrich_qval_list[[gp]] <- data.frame(enrich_group@result %>% filter(qvalue<=0.05) %>% arrange(qvalue))\n",
    "}\n",
    "\n",
    "# save enrichment result\n",
    "saveRDS(enrich_group_list, paste0(output, \"STIP_group_enrichment.rds\"))\n",
    "openxlsx::write.xlsx(x = enrich_qval_list, file = paste0(output, \"STIP_group_enrichment.xlsx\"), colNames = TRUE, rowNames = TRUE)"
   ]
  },
  {
   "cell_type": "code",
   "execution_count": null,
   "id": "55e0412c-2e21-4df5-af48-6d95660aed22",
   "metadata": {},
   "outputs": [],
   "source": [
    "### Bin Enrichment analysis of STIP, qvalue 0.05\n",
    "### Get the number of genes in each group first, then specify bin.width\n",
    "### Let each bin be 100-500 genes\n",
    "\n",
    "enrich_bin_list <- list()\n",
    "enrich_qval_list <- list()\n",
    "\n",
    "pattern <- \"D\"\n",
    "bin.width <- 0.1\n",
    "stride <- 0.05\n",
    "genes_bin_enrich <- STIP::compareEnrichBin(gene_group, pattern, bin.width=bin.width, stride=stride, species=\"mouse\", ont=\"BP\", universe=universe)\n",
    "genes_bin_enrich@compareClusterResult[, \"EnrichRatio\"] <- (as.numeric(sapply(strsplit(genes_bin_enrich@compareClusterResult$GeneRatio, \"/\"), function(i) i[1])) * as.numeric(sapply(strsplit(genes_bin_enrich@compareClusterResult$BgRatio, \"/\"), function(i) i[2]))) / (as.numeric(sapply(strsplit(genes_bin_enrich@compareClusterResult$GeneRatio, \"/\"), function(i) i[2])) * as.numeric(sapply(strsplit(genes_bin_enrich@compareClusterResult$BgRatio, \"/\"), function(i) i[1])))\n",
    "enrich_bin_list[[pattern]] <- genes_bin_enrich\n",
    "enrich_qval_list[[pattern]] <- data.frame(genes_bin_enrich@compareClusterResult %>% filter(qvalue<=0.05) %>% arrange(Cluster, qvalue))\n",
    "\n",
    "pattern <- \"DI\"\n",
    "bin.width <- 0.2\n",
    "stride <- 0.1\n",
    "genes_bin_enrich <- STIP::compareEnrichBin(gene_group, pattern, bin.width=bin.width, stride=stride, species=\"mouse\", ont=\"BP\", universe=universe)\n",
    "genes_bin_enrich@compareClusterResult[, \"EnrichRatio\"] <- (as.numeric(sapply(strsplit(genes_bin_enrich@compareClusterResult$GeneRatio, \"/\"), function(i) i[1])) * as.numeric(sapply(strsplit(genes_bin_enrich@compareClusterResult$BgRatio, \"/\"), function(i) i[2]))) / (as.numeric(sapply(strsplit(genes_bin_enrich@compareClusterResult$GeneRatio, \"/\"), function(i) i[2])) * as.numeric(sapply(strsplit(genes_bin_enrich@compareClusterResult$BgRatio, \"/\"), function(i) i[1])))\n",
    "enrich_bin_list[[pattern]] <- genes_bin_enrich\n",
    "enrich_qval_list[[pattern]] <- data.frame(genes_bin_enrich@compareClusterResult %>% filter(qvalue<=0.05) %>% arrange(Cluster, qvalue))\n",
    "\n",
    "pattern <- \"I\"\n",
    "bin.width <- 0.1\n",
    "stride <- 0.05\n",
    "genes_bin_enrich <- STIP::compareEnrichBin(gene_group, pattern, bin.width=bin.width, stride=stride, species=\"mouse\", ont=\"BP\", universe=universe)\n",
    "genes_bin_enrich@compareClusterResult[, \"EnrichRatio\"] <- (as.numeric(sapply(strsplit(genes_bin_enrich@compareClusterResult$GeneRatio, \"/\"), function(i) i[1])) * as.numeric(sapply(strsplit(genes_bin_enrich@compareClusterResult$BgRatio, \"/\"), function(i) i[2]))) / (as.numeric(sapply(strsplit(genes_bin_enrich@compareClusterResult$GeneRatio, \"/\"), function(i) i[2])) * as.numeric(sapply(strsplit(genes_bin_enrich@compareClusterResult$BgRatio, \"/\"), function(i) i[1])))\n",
    "enrich_bin_list[[pattern]] <- genes_bin_enrich\n",
    "enrich_qval_list[[pattern]] <- data.frame(genes_bin_enrich@compareClusterResult %>% filter(qvalue<=0.05) %>% arrange(Cluster, qvalue))\n",
    "\n",
    "pattern <- \"ID\"\n",
    "bin.width <- 0.1\n",
    "stride <- 0.05\n",
    "genes_bin_enrich <- STIP::compareEnrichBin(gene_group, pattern, bin.width=bin.width, stride=stride, species=\"mouse\", ont=\"BP\", universe=universe)\n",
    "genes_bin_enrich@compareClusterResult[, \"EnrichRatio\"] <- (as.numeric(sapply(strsplit(genes_bin_enrich@compareClusterResult$GeneRatio, \"/\"), function(i) i[1])) * as.numeric(sapply(strsplit(genes_bin_enrich@compareClusterResult$BgRatio, \"/\"), function(i) i[2]))) / (as.numeric(sapply(strsplit(genes_bin_enrich@compareClusterResult$GeneRatio, \"/\"), function(i) i[2])) * as.numeric(sapply(strsplit(genes_bin_enrich@compareClusterResult$BgRatio, \"/\"), function(i) i[1])))\n",
    "enrich_bin_list[[pattern]] <- genes_bin_enrich\n",
    "enrich_qval_list[[pattern]] <- data.frame(genes_bin_enrich@compareClusterResult %>% filter(qvalue<=0.05) %>% arrange(Cluster, qvalue))\n",
    "\n",
    "saveRDS(enrich_bin_list, paste0(output, \"STIP_bin_enrichment.rds\"))\n",
    "openxlsx::write.xlsx(x = enrich_qval_list, file = paste0(output, \"STIP_bin_enrichment.xlsx\"), colNames = TRUE, rowNames = TRUE)"
   ]
  },
  {
   "cell_type": "code",
   "execution_count": null,
   "id": "5df6073e-a2c6-4eff-9c27-a2099ed5d2b7",
   "metadata": {},
   "outputs": [],
   "source": []
  },
  {
   "cell_type": "code",
   "execution_count": null,
   "id": "92f030c7-5e7a-4795-8be2-c1ce3402fe88",
   "metadata": {},
   "outputs": [],
   "source": []
  }
 ],
 "metadata": {
  "kernelspec": {
   "display_name": "R 4.1.2",
   "language": "R",
   "name": "ir412"
  },
  "language_info": {
   "codemirror_mode": "r",
   "file_extension": ".r",
   "mimetype": "text/x-r-source",
   "name": "R",
   "pygments_lexer": "r",
   "version": "4.1.2"
  }
 },
 "nbformat": 4,
 "nbformat_minor": 5
}
